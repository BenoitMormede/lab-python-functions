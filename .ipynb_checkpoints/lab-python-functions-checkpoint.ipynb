{
 "cells": [
  {
   "cell_type": "markdown",
   "id": "25d7736c-ba17-4aff-b6bb-66eba20fbf4e",
   "metadata": {},
   "source": [
    "# Lab | Functions"
   ]
  },
  {
   "cell_type": "markdown",
   "id": "0c581062-8967-4d93-b06e-62833222f930",
   "metadata": {
    "tags": []
   },
   "source": [
    "## Exercise: Managing Customer Orders with Functions\n",
    "\n",
    "In the previous exercise, you improved the code for managing customer orders by using loops and flow control. Now, let's take it a step further and refactor the code by introducing functions.\n",
    "\n",
    "Follow the steps below to complete the exercise:\n",
    "\n",
    "1. Define a function named `initialize_inventory` that takes `products` as a parameter. Inside the function, implement the code for initializing the inventory dictionary using a loop and user input.\n",
    "\n",
    "2. Define a function named `get_customer_orders` that takes no parameters. Inside the function, implement the code for prompting the user to enter the product names using a loop. The function should return the `customer_orders` set.\n",
    "\n",
    "3. Define a function named `update_inventory` that takes `customer_orders` and `inventory` as parameters. Inside the function, implement the code for updating the inventory dictionary based on the customer orders.\n",
    "\n",
    "4. Define a function named `calculate_order_statistics` that takes `customer_orders` and `products` as parameters. Inside the function, implement the code for calculating the order statistics (total products ordered, and percentage of unique products ordered). The function should return these values.\n",
    "\n",
    "5. Define a function named `print_order_statistics` that takes `order_statistics` as a parameter. Inside the function, implement the code for printing the order statistics.\n",
    "\n",
    "6. Define a function named `print_updated_inventory` that takes `inventory` as a parameter. Inside the function, implement the code for printing the updated inventory.\n",
    "\n",
    "7. Call the functions in the appropriate sequence to execute the program and manage customer orders.\n",
    "\n",
    "Hints for functions:\n",
    "\n",
    "- Consider the input parameters required for each function and their return values.\n",
    "- Utilize function parameters and return values to transfer data between functions.\n",
    "- Test your functions individually to ensure they work correctly.\n",
    "\n",
    "\n"
   ]
  },
  {
   "cell_type": "code",
   "execution_count": 185,
   "id": "be6f4b30-8468-4648-b44b-d53c63467c53",
   "metadata": {},
   "outputs": [],
   "source": [
    "products = [\"t-shirt\", \"mug\", \"hat\", \"book\", \"keychain\"] #create product list\n",
    "inventory = {} # create empty dictionnary\n",
    "customer_orders = set() #create empty set to store customer order"
   ]
  },
  {
   "cell_type": "code",
   "execution_count": 187,
   "id": "74f8d74e-cbf9-4935-b0d5-d29e47485ba3",
   "metadata": {},
   "outputs": [],
   "source": [
    "# functions\n",
    "\n",
    "#1 define function initialize_inventory\n",
    "\n",
    "def initialize_inventory(products):\n",
    "    for items in products:\n",
    "        qty = input(f\"Enter quantity of {items}\") # ask user input qty\n",
    "        inventory[items] = int(qty) # store integer qty for item in dictionnary\n",
    "    return inventory\n",
    "\n",
    "#2 define function get_customer_orders\n",
    "\n",
    "def get_customer_orders ():\n",
    "    user_choice = \"yes\"\n",
    "    while user_choice == \"yes\": #create a loop running as long as choice is yes\n",
    "        item = input(\"Please enter an item to order\")\n",
    "        if item in products:#check if user entry belongs to list of products\n",
    "            customer_orders.add(item) #if yes add to customer order\n",
    "        else:\n",
    "            item = input (\"please enter an item from the product list\")\n",
    "            customer_orders.add(item) #if yes add to customer order\n",
    "        \n",
    "        user_choice = input(\"Would you like to order another item ? yes / no?\")\n",
    "    print (f\"the items ordered are : {customer_orders}\")\n",
    "\n",
    "#3 define function update_inventory\n",
    "\n",
    "def update_inventory (customer_orders,inventory):\n",
    "    for item in customer_orders:#create a loop itarating over items in customer order\n",
    "        if inventory[item]>0: #check if there is a stock for this item\n",
    "            inventory[item] -= 1 #reduce the qty by one\n",
    "\n",
    "#4 define function calculate order stats\n",
    "\n",
    "order_status = (len(customer_orders),len(customer_orders)/len(products)*100)\n",
    "\n",
    "def calculate_order_statistics (customer_orders,products):\n",
    "        return order_status\n",
    "\n",
    "#5 define function print order stats\n",
    "\n",
    "order_statistics =()\n",
    "\n",
    "def print_order_statistics (order_statistics):\n",
    "    print(\"Order statistics\")\n",
    "    print(f\"Total products ordered: {order_status[0]}\")\n",
    "    print(f\"Percentage of Products Ordered: {order_status[1]} %\")\n",
    "\n",
    "#5 define function print_updated_inventory\n",
    "def print_updated_inventory(inventory):\n",
    "    print (inventory)\n",
    "\n",
    "\n"
   ]
  },
  {
   "cell_type": "code",
   "execution_count": 189,
   "id": "32556fba-b4bb-42dd-b19f-5b9a148c7e1e",
   "metadata": {},
   "outputs": [
    {
     "name": "stdin",
     "output_type": "stream",
     "text": [
      "Enter quantity of t-shirt 10\n",
      "Enter quantity of mug 8\n",
      "Enter quantity of hat 6\n",
      "Enter quantity of book 1\n",
      "Enter quantity of keychain 1\n",
      "Please enter an item to order book\n",
      "Would you like to order another item ? yes / no? no\n"
     ]
    },
    {
     "name": "stdout",
     "output_type": "stream",
     "text": [
      "the items ordered are : {'book'}\n",
      "inventory after order is {'t-shirt': 10, 'mug': 8, 'hat': 6, 'book': 0, 'keychain': 1}\n",
      "Order statistics\n",
      "Total products ordered: 0\n",
      "Percentage of Products Ordered: 0.0 %\n",
      "Order statistics\n",
      "Total products ordered: 0\n",
      "Percentage of Products Ordered: 0.0 %\n",
      "{'t-shirt': 10, 'mug': 8, 'hat': 6, 'book': 0, 'keychain': 1}\n"
     ]
    }
   ],
   "source": [
    "initialize_inventory(products)\n",
    "get_customer_orders()\n",
    "update_inventory(customer_orders,inventory)\n",
    "print(f\"inventory after order is {inventory}\")\n",
    "calculate_order_statistics(customer_orders,products)\n",
    "print_order_statistics (order_statistics)\n",
    "print(\"Order statistics\")\n",
    "print(f\"Total products ordered: {order_status[0]}\")\n",
    "print(f\"Percentage of Products Ordered: {order_status[1]} %\")\n",
    "print_updated_inventory(inventory)"
   ]
  }
 ],
 "metadata": {
  "kernelspec": {
   "display_name": "Python 3 (ipykernel)",
   "language": "python",
   "name": "python3"
  },
  "language_info": {
   "codemirror_mode": {
    "name": "ipython",
    "version": 3
   },
   "file_extension": ".py",
   "mimetype": "text/x-python",
   "name": "python",
   "nbconvert_exporter": "python",
   "pygments_lexer": "ipython3",
   "version": "3.12.4"
  }
 },
 "nbformat": 4,
 "nbformat_minor": 5
}
